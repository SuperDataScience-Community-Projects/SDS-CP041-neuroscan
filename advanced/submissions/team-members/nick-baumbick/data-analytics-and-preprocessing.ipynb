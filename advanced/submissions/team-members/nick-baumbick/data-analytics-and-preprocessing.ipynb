{
 "cells": [
  {
   "cell_type": "code",
   "execution_count": 18,
   "id": "9ee2c885-d337-400b-a39d-041474fbee07",
   "metadata": {},
   "outputs": [
    {
     "name": "stdout",
     "output_type": "stream",
     "text": [
      "Overall Minimum Pixel Intensity: 0\n",
      "Overall Maximum Pixel Intensity: 255\n",
      "Overall Maximum Height: 1427\n",
      "Overall Minimum Height: 168\n",
      "Overall Maximum Width: 1920\n",
      "Overall Minimum Width: 150\n",
      "Height Bounds: 26 : 227\n",
      "Width Bounds: 50 : 203\n"
     ]
    }
   ],
   "source": [
    "import os\n",
    "import cv2\n",
    "import numpy as np\n",
    "\n",
    "DATASET_DIR = './brain_tumor_dataset'\n",
    "global_min_pixel = 255\n",
    "global_max_pixel = 0\n",
    "global_min_height_res = 99999\n",
    "global_min_width_res = 99999\n",
    "global_max_height_res = 0\n",
    "global_max_width_res = 0\n",
    "lower_bound_width = 0\n",
    "upper_bound_width = 0\n",
    "lower_bound_height = 0\n",
    "upper_bound_height = 0\n",
    "\n",
    "for root, dirs, files in os.walk(DATASET_DIR):\n",
    "    for file_name in files:\n",
    "        if file_name.lower().endswith(('.png', '.jpg', '.jpeg')):          \n",
    "            image_path = os.path.join(root, file_name)\n",
    "            image = cv2.imread(image_path, cv2.IMREAD_GRAYSCALE)\n",
    "            \n",
    "            if image is not None:\n",
    "                h, w = image.shape\n",
    "                global_min = min(global_min_pixel, np.min(image))\n",
    "                global_max = max(global_max_pixel, np.max(image))\n",
    "                global_max_height_res = max(global_max_height_res, np.max(h))\n",
    "                global_max_width_res = max(global_max_width_res, np.max(w))\n",
    "                global_min_height_res = min(global_min_height_res, np.min(h))\n",
    "                global_min_width_res = min(global_min_width_res, np.min(w))\n",
    "                if w < 224:\n",
    "                    lower_bound_width+=1\n",
    "                else:\n",
    "                    upper_bound_width+=1\n",
    "                if h < 224:\n",
    "                    lower_bound_height+=1\n",
    "                else:\n",
    "                    upper_bound_height+=1\n",
    "            else:\n",
    "                print(f\"Warning: Could not read image at {image_path}\")\n",
    "print(f\"Overall Minimum Pixel Intensity: {global_min}\")\n",
    "print(f\"Overall Maximum Pixel Intensity: {global_max}\")\n",
    "print(f\"Overall Maximum Height: {global_max_height_res}\")\n",
    "print(f\"Overall Minimum Height: {global_min_height_res}\")\n",
    "print(f\"Overall Maximum Width: {global_max_width_res}\")\n",
    "print(f\"Overall Minimum Width: {global_min_width_res}\")\n",
    "print(f\"Height Bounds: {lower_bound_height} : {upper_bound_height}\")\n",
    "print(f\"Width Bounds: {lower_bound_width} : {upper_bound_width}\")"
   ]
  },
  {
   "cell_type": "code",
   "execution_count": null,
   "id": "cece7d21-2d12-47c0-ac19-e70752323fff",
   "metadata": {},
   "outputs": [],
   "source": [
    "import tensorflow as tf\n",
    "from tensorflow.keras.preprocessing.image import ImageDataGenerator\n",
    "\n",
    "IMAGE_SIZE = (224, 224)\n",
    "BATCH_SIZE = 32\n",
    "DATASET_DIR = './brain_tumor_data/'\n",
    "\n",
    "train_datagen = ImageDataGenerator(\n",
    "    rescale=1./255,           # Normalize pixel values from 0-255 -> 0-1\n",
    "    horizontal_flip=True,     # Randomly flip images horizontally to help with overfitting\n",
    "    fill_mode='nearest'\n",
    ")\n",
    "\n",
    "validation_datagen = ImageDataGenerator(rescale=1./255)\n",
    "\n",
    "train_generator = train_datagen.flow_from_directory(\n",
    "    directory=DATASET_DIR + 'train',\n",
    "    target_size=IMAGE_SIZE,          # Resize all images to 224x224\n",
    "    batch_size=BATCH_SIZE,\n",
    "    class_mode='binary'              # 0/1 classification\n",
    ")\n",
    "\n",
    "validation_generator = validation_datagen.flow_from_directory(\n",
    "    directory=DATASET_DIR + 'validation',\n",
    "    target_size=IMAGE_SIZE,\n",
    "    batch_size=BATCH_SIZE,\n",
    "    class_mode='binary'\n",
    ")"
   ]
  }
 ],
 "metadata": {
  "kernelspec": {
   "display_name": "Python 3 (ipykernel)",
   "language": "python",
   "name": "python3"
  },
  "language_info": {
   "codemirror_mode": {
    "name": "ipython",
    "version": 3
   },
   "file_extension": ".py",
   "mimetype": "text/x-python",
   "name": "python",
   "nbconvert_exporter": "python",
   "pygments_lexer": "ipython3",
   "version": "3.12.11"
  }
 },
 "nbformat": 4,
 "nbformat_minor": 5
}
