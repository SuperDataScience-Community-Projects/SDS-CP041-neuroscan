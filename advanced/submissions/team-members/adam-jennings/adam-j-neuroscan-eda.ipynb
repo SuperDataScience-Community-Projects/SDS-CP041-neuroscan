{
 "cells": [
  {
   "cell_type": "markdown",
   "metadata": {},
   "source": [
    "### 1. Exploratory Data Analysis (EDA)\n",
    "\n",
    "* Inspect class balance (number of \"yes\" vs. \"no\" images)\n",
    "* Inspect images size and standardize if necessary (e.g., 128x128 or 224x224)\n",
    "* Check pixel intensity distribution (to check if resizing is necessary)\n",
    "* Normalize pixel values to [0,1]\n"
   ]
  },
  {
   "cell_type": "markdown",
   "metadata": {},
   "source": [
    "# Week 1: Setup + EDA"
   ]
  },
  {
   "cell_type": "markdown",
   "metadata": {},
   "source": [
    "#### 1. Import Libraries"
   ]
  },
  {
   "cell_type": "code",
   "execution_count": null,
   "metadata": {},
   "outputs": [],
   "source": [
    "import pandas as pd\n",
    "import numpy as np\n",
    "import os\n",
    "import cv2\n",
    "import matplotlib.pyplot as plt\n",
    "import seaborn as sns"
   ]
  },
  {
   "cell_type": "markdown",
   "metadata": {},
   "source": [
    "#### 2. Import Data"
   ]
  },
  {
   "cell_type": "code",
   "execution_count": null,
   "metadata": {},
   "outputs": [],
   "source": [
    "data_dir = \"../../../../env/brain_tumor_dataset\""
   ]
  },
  {
   "cell_type": "code",
   "execution_count": null,
   "metadata": {},
   "outputs": [],
   "source": [
    "number_files_yes = len(os.listdir(os.path.join(data_dir, \"yes\")))\n",
    "number_files_no = len(os.listdir(os.path.join(data_dir, \"no\")))\n",
    "\n",
    "print(f\"Tumor images:    {number_files_yes}\")\n",
    "print(f\"No tumor images:  {number_files_no}\")\n",
    "print(f\"Total images:    {number_files_yes + number_files_no}\")"
   ]
  },
  {
   "cell_type": "code",
   "execution_count": null,
   "metadata": {},
   "outputs": [],
   "source": [
    "Imbalance_Ratio = number_files_yes / number_files_no\n",
    "print(f\"Class Imbalance Ratio (yes:no) = {Imbalance_Ratio:.2f}:1\")"
   ]
  },
  {
   "cell_type": "code",
   "execution_count": null,
   "metadata": {},
   "outputs": [],
   "source": [
    "images = []"
   ]
  },
  {
   "cell_type": "code",
   "execution_count": null,
   "metadata": {},
   "outputs": [],
   "source": [
    "for x in {\"yes\",\"no\"}:\n",
    "    paths = data_dir + \"/\" + x\n",
    "    for filename in os.listdir(paths):\n",
    "        ext = os.path.splitext(filename)[-1].lower()\n",
    "\n",
    "        path = os.path.join(data_dir, x, filename)\n",
    "        img = cv2.imread(path)\n",
    "        if img is not None:\n",
    "            height, width = img.shape[:2]\n",
    "            images.append({'filename': filename, 'width': width, 'height': height, 'aspect_ratio': width / height if height > 0 else 0})\n",
    "        else:\n",
    "            images.append({'filename': filename, 'width': None, 'height': None, 'aspect_ratio': None}) # in case of read failure\n",
    "\n",
    "# Convert to DataFrame\n",
    "df = pd.DataFrame(images)"
   ]
  },
  {
   "cell_type": "code",
   "execution_count": null,
   "metadata": {},
   "outputs": [],
   "source": [
    "df.head()"
   ]
  },
  {
   "cell_type": "code",
   "execution_count": null,
   "metadata": {},
   "outputs": [],
   "source": [
    "df.describe()"
   ]
  },
  {
   "cell_type": "code",
   "execution_count": null,
   "metadata": {},
   "outputs": [],
   "source": [
    "plt.figure(figsize=(15, 5))\n",
    "\n",
    "# Histogram of Widths\n",
    "plt.subplot(1, 3, 1)\n",
    "plt.hist(df['width'], bins=30, color='skyblue', edgecolor='black')\n",
    "plt.title('Distribution of Image Widths')\n",
    "plt.xlabel('Width (pixels)')\n",
    "plt.ylabel('Frequency')\n",
    "plt.axvline(244, color='red', linestyle='--', label='244 Px')\n",
    "plt.axvline(354, color='blue', linestyle='--', label='mean = 354.24 Px')\n",
    "plt.legend()\n",
    "\n",
    "# Histogram of Heights\n",
    "plt.subplot(1, 3, 2)\n",
    "plt.hist(df['height'], bins=30, color='lightcoral', edgecolor='black')\n",
    "plt.title('Distribution of Image Heights')\n",
    "plt.xlabel('Height (pixels)')\n",
    "plt.ylabel('Frequency')\n",
    "plt.axvline(244, color='red', linestyle='--', label='244 Px')\n",
    "plt.axvline(354, color='blue', linestyle='--', label='mean = 354.24 Px')\n",
    "plt.legend()\n",
    "\n",
    "# Histogram of Aspect Ratios\n",
    "plt.subplot(1, 3, 3)\n",
    "plt.hist(df['aspect_ratio'], bins=30, color='lightgreen', edgecolor='black')\n",
    "plt.title('Distribution of Aspect Ratios')\n",
    "plt.xlabel('Aspect Ratio (Width/Height)')\n",
    "plt.ylabel('Frequency')\n",
    "plt.axvline(1.0, color='red', linestyle='--', label='Aspect Ratio = 1.0')\n",
    "plt.legend()\n",
    "\n",
    "plt.tight_layout()\n",
    "plt.show()\n",
    "\n",
    "# Scatter plot of Width vs Height\n",
    "plt.figure(figsize=(8, 6))\n",
    "plt.scatter(df['width'], df['height'], alpha=0.5)\n",
    "plt.title('Image Width vs. Height')\n",
    "plt.xlabel('Width (pixels)')\n",
    "plt.ylabel('Height (pixels)')\n",
    "plt.grid(True)\n",
    "plt.show()"
   ]
  },
  {
   "cell_type": "markdown",
   "metadata": {},
   "source": [
    "#### Pixel Intensity"
   ]
  },
  {
   "cell_type": "code",
   "execution_count": null,
   "metadata": {},
   "outputs": [],
   "source": [
    "ex_img = data_dir + \"/yes/Y1.jpg\"\n",
    "img = cv2.imread(ex_img,0)\n",
    "plt.imshow(img, cmap='gray')\n",
    "plt.show()\n",
    "print(img)\n",
    "img.min(), img.max()"
   ]
  },
  {
   "cell_type": "code",
   "execution_count": null,
   "metadata": {},
   "outputs": [],
   "source": [
    "ex_img = data_dir + \"/no/1 no.jpeg\"\n",
    "img = cv2.imread(ex_img,0)\n",
    "print(img)\n",
    "plt.imshow(img, cmap='gray')\n",
    "plt.show()\n",
    "img.min(), img.max()"
   ]
  },
  {
   "cell_type": "markdown",
   "metadata": {},
   "source": [
    "### Resize Images"
   ]
  },
  {
   "cell_type": "code",
   "execution_count": null,
   "metadata": {},
   "outputs": [],
   "source": []
  }
 ],
 "metadata": {
  "kernelspec": {
   "display_name": "venv",
   "language": "python",
   "name": "python3"
  },
  "language_info": {
   "codemirror_mode": {
    "name": "ipython",
    "version": 3
   },
   "file_extension": ".py",
   "mimetype": "text/x-python",
   "name": "python",
   "nbconvert_exporter": "python",
   "pygments_lexer": "ipython3",
   "version": "3.13.7"
  }
 },
 "nbformat": 4,
 "nbformat_minor": 2
}
